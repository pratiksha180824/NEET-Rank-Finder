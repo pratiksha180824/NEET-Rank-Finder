{
 "cells": [
  {
   "cell_type": "code",
   "execution_count": null,
   "id": "c5912e04-d82c-481f-8f66-48038337383a",
   "metadata": {},
   "outputs": [],
   "source": [
    "!apt-get install libxml2-dev libxslt-dev python-dev\n",
    "!pip install lxml"
   ]
  },
  {
   "cell_type": "code",
   "execution_count": null,
   "id": "220eacd4-9a7b-49a5-afef-66df88ee9e82",
   "metadata": {},
   "outputs": [],
   "source": [
    "import requests\n",
    "from bs4 import BeautifulSoup\n",
    "import pandas as pd\n",
    "import numpy as np"
   ]
  },
  {
   "cell_type": "code",
   "execution_count": null,
   "id": "6758d201-7166-41cf-8a94-48ad4ece445d",
   "metadata": {},
   "outputs": [],
   "source": [
    "df = pd.read_csv('example.csv').reset_index(drop=True)\n",
    "df"
   ]
  },
  {
   "cell_type": "code",
   "execution_count": null,
   "id": "6e991074-7dfa-49d7-875b-e6bbdafd6210",
   "metadata": {},
   "outputs": [],
   "source": [
    "print(df.columns)"
   ]
  },
  {
   "cell_type": "code",
   "execution_count": null,
   "id": "6df09bca-fff2-4e4f-86d1-669b4b1e1ece",
   "metadata": {},
   "outputs": [],
   "source": [
    "code_list = df[\" code\"].unique().tolist()"
   ]
  },
  {
   "cell_type": "code",
   "execution_count": null,
   "id": "d19b3af5-e872-43ef-a081-1e8864ffe530",
   "metadata": {},
   "outputs": [],
   "source": [
    "len( code_list)"
   ]
  },
  {
   "cell_type": "code",
   "execution_count": null,
   "id": "439e6213-7ac5-4272-b70b-56ba9adfcf58",
   "metadata": {},
   "outputs": [],
   "source": [
    "import warnings\n",
    "warnings.simplefilter(action='ignore', category=FutureWarning)\n",
    "# Now import lxml\n",
    "import lxml"
   ]
  },
  {
   "cell_type": "code",
   "execution_count": null,
   "id": "e4652113-a7ba-4952-80c7-6917a340488b",
   "metadata": {},
   "outputs": [],
   "source": [
    "import requests\n",
    "from bs4 import BeautifulSoup\n",
    "import pandas as pd\n",
    "\n",
    "# Dictionary of branch codes and their corresponding codes\n",
    "code_dict = {\n",
    "   ##BDS\n",
    "   119: [2101, 2102, 2104, 2105, 2115, 2116, 2117, 2118, 2119, 2120, 2121, 2123, 2124, 2127, 2134, 2135, 2207, 2211, 2212, 2229, 2230, 2313, 2314, 2325, 2326, 2331, 2332, 2333],\n",
    "   #BUMS\n",
    "   134:[5101, 5102, 5103, 5104, 5106, 5109,5307]\n",
    "   #BPTH:\n",
    "   125:[6101, 6102, 6103, 6104, 6105, 6116, 6117, 6118, 6119, 6120,\n",
    "       6121, 6123, 6124, 6126, 6127, 6128, 6129, 6133, 6136, 6138,\n",
    "        6140, 6141, 6145, 6147, 6148, 6149, 6151, 6152, 6153, 6155,\n",
    "        6157, 6158, 6159, 6160, 6162, 6163, 6169, 6171, 6174, 6176,\n",
    "        6177, 6178, 6183, 6184, 6187, 6188, 6189, 6190, 6191, 6192,\n",
    "      6208, 6210, 6234, 6237, 6239, 6242, 6246, 6254, 6256, 6261, 6280, 6281, 6285, 6286, 6293, 6325, 6331, 6332, 6335, 6343, 6344, 6350, 6364, 6365, 6366, 6367, 6368, 6370, 6372, 6373, 6375, 6379, 6382\n",
    "          ]\n",
    "   #BP&O\n",
    "   127:[9101]\n",
    "   #BOTH\n",
    "   124:[7101,7102,7103,7205]\n",
    "   #BHMS\n",
    "   133:[4101, 4102, 4103, 4104, 4105, 4106, 4107, 4108, 4109, 4110, 4112, 4114, 4115, 4116, 4117, 4118, 4119, 4120, 4121, 4122, 4123, 4141, 4142, 4143, 4144, 4145, 4147, 4148, 4149, 4152, 4154, 4155, 4157, 4158, 4161, 4164, 4165, 4224, 4226, 4227, 4228, 4230, 4231, 4262, 4266, 4333, 4334, 4335, 4336, 4337, 4338, 4339, 4346, 4350, 4356, 4360, 4363]\n",
    "   #BAMS:\n",
    "   132:[3101, 3102, 3103, 3104, 3105, 3106, 3107, 3108, 3109, 3110, 3111, 3112, 3113, 3114, 3115, 3116, 3117, 3118, 3119, 3120, 3121, 3122, 3123, 3124, 3125, 3126, 3128, 3129, 3130, 3131, 3132, 3133, 3134, 3135, 3136, 3137, 3138, 3139, 3140, 3141, 3142, 3147, 3158, 3160, 3161, 3162, 3172, 3176, 3179, 3180, 3181, 3182, 3183, 3184, 3185, 3187, 3188, 3191, 3192, 3193, 3196, 3198, 3199, 3232, 3233, 3234, 3235, 3236, 3237, 3238, 3239, 3240, 3241, 3252, 3257, 3263, 3264, 3265, 3266, 3271, 3273, 3274, 3277, 3286, 3294, 3295, 3296, 3342, 3343, 3344, 3353, 3354, 3355, 3367, 3368, 3369, 3375, 3378, 3389, 3390, 3395, 3396, 3397, 3398, 3399]\n",
    "   #BASLP\n",
    "   126:[8101,8102]\n",
    "   #MBBS\n",
    "   118:[1101, 1102, 1103, 1104, 1105, 1108, 1109, 1110, 1112, 1114, 1115, 1118, 1119, 1120, 1132, 1135, 1136, 1137, 1138, 1139, 1140, 1143, 1144, 1147, 1149, 1150, 1151, 1152, 1153, 1154, 1155, 1156, 1157, 1159, 1221, 1222, 1223, 1225, 1226, 1234, 1241, 1242, 1248, 1261, 1327, 1328, 1329, 1330, 1333, 1345, 1358, 1360, 1362]\n",
    "\n",
    "}\n",
    "\n",
    "def fetch_data(branch_code):\n",
    "    headers_printed = False  # Flag to track if headers have been printed\n",
    "\n",
    "    if branch_code in code_dict:\n",
    "        for code in code_dict[branch_code]:\n",
    "            combined_code = f\"{branch_code}{code}\"\n",
    "            url = f'https://cetcell.mahacet.org/search-institute-deatils/?getinstitutecode={combined_code}'\n",
    "            response = requests.get(url)\n",
    "            if response.status_code == 200:\n",
    "                page_content = response.text\n",
    "                soup = BeautifulSoup(page_content, 'html.parser')\n",
    "                lt = soup.find_all('table')\n",
    "                if lt:\n",
    "                    ci = str(lt[0])\n",
    "                    df = pd.read_html(str(lt[1]))[0]\n",
    "                    if not headers_printed:\n",
    "                        print(df.columns)\n",
    "                        headers_printed = True\n",
    "                    print(df)\n",
    "                else:\n",
    "                    print(f\"No tables found for Combined Code: {combined_code}\")\n",
    "            else:\n",
    "                print(f\"Failed to retrieve data for Combined Code: {combined_code}, Status Code: {response.status_code}\")\n",
    "    else:\n",
    "        print(f\"Branch code {branch_code} not found in the dictionary.\")\n",
    "\n",
    "# Example usage\n",
    "branch_code_input = 94  # Change this to the desired branch code\n",
    "fetch_data(branch_code_input)\n"
   ]
  },
  {
   "cell_type": "code",
   "execution_count": null,
   "id": "32fbfd36-6452-4c8f-8ed2-8c0f20a394c7",
   "metadata": {},
   "outputs": [],
   "source": [
    "def decode_cf_email(encoded_string):\n",
    "    decoded = \"\"\n",
    "    k = int(encoded_string[:2], 16)\n",
    "    for i in range(2, len(encoded_string)-1, 2):\n",
    "        decoded += chr(int(encoded_string[i:i+2], 16) ^ k)\n",
    "    return decoded\n",
    "def fetch_data(branch_code):\n",
    "    merged_df_list = []\n",
    "    headers_printed = False  # Flag to track if headers have been printed\n",
    "\n",
    "    if branch_code in code_dict:\n",
    "        for code in code_dict[branch_code]:\n",
    "            combined_code = f\"{branch_code}{code}\"\n",
    "            url = f'https://cetcell.mahacet.org/search-institute-deatils/?getinstitutecode={combined_code}'\n",
    "            response = requests.get(url)\n",
    "            if response.status_code == 200:\n",
    "                page_content = response.text\n",
    "                soup = BeautifulSoup(page_content, 'html.parser')\n",
    "                lt = soup.find_all('table')\n",
    "                 # Extract and decode emails\n",
    "                encoded_emails = soup.find_all('a', {'class': '__cf_email__'})\n",
    "                decoded_emails = []\n",
    "                for encoded_email in encoded_emails:\n",
    "                    data_cfemail = encoded_email['data-cfemail']\n",
    "                    decoded_email = decode_cf_email(data_cfemail)\n",
    "                    decoded_emails.append(decoded_email)\n",
    "\n",
    "                if not lt:\n",
    "                    print(f\"No tables found for Combined Code: {combined_code}\")\n",
    "                    continue\n",
    "\n",
    "                ci = str(lt[0])\n",
    "                try:\n",
    "                    ci_df = pd.read_html(ci)[0]\n",
    "                except Exception as e:\n",
    "                    print(f\"Error parsing table for Combined Code: {combined_code}, Error: {e}\")\n",
    "                    result = pd.DataFrame([{\n",
    "                        'Department Name': np.nan, 'Institute Name': np.nan, 'District': np.nan, 'City': np.nan,\n",
    "                        'University': np.nan, 'Institute Status': np.nan, 'Minority Status': np.nan,\n",
    "                        'E-Mail ID': np.nan, 'College Code': combined_code, 'Address': np.nan, 'Taluka': np.nan,\n",
    "                        'PIN Code': np.nan, 'Establishment Year': np.nan, 'Autonomy Status': np.nan,\n",
    "                        'Phone Number': np.nan, 'Website URL': np.nan, 'Course Name': np.nan,\n",
    "                        'Course Type': np.nan, 'Branch Name': np.nan, 'Sanction Intake': np.nan\n",
    "                    }])\n",
    "                    merged_df_list.append(result)\n",
    "                    print(f'{combined_code} done unsuccessfully')\n",
    "                    continue\n",
    "\n",
    "                data = []\n",
    "                i = 0\n",
    "                row = {}\n",
    "                while i < 4:\n",
    "                    for j in range(len(ci_df[i].tolist())):\n",
    "                        row[f\"{ci_df[i].tolist()[j]}\"] = ci_df[i + 1].tolist()[j]\n",
    "                    i += 2\n",
    "                data.append(row)\n",
    "                df1 = pd.DataFrame(data)\n",
    "                 # Add decoded emails to df1\n",
    "                if decoded_emails:\n",
    "                    df1[\"E-Mail ID\"] = decoded_emails[0]  # Assuming one email per institute\n",
    "                if len(df1.columns) != 16:\n",
    "                    print(f'for {combined_code} number of columns is {len(df1.columns)}')\n",
    "\n",
    "                df2 = pd.read_html(str(lt[1]))[0]\n",
    "                result = pd.concat([df2] * len(df1)).reset_index(drop=True)\n",
    "                for col in df1.columns:\n",
    "                    result[col] = df1.iloc[0][col]\n",
    "                result = result[df1.columns.tolist() + df2.columns.tolist()]\n",
    "                result = result.rename(columns={\"Sub Course Name\": \"Branch Name\", \"Institute code\": \"College Code\"})\n",
    "                result[\"College Code\"] = result[\"College Code\"].astype(float)\n",
    "                merged_df_list.append(result)\n",
    "                print(f'{combined_code} done')\n",
    "            else:\n",
    "                print(f'Failed to retrieve data for Combined Code: {combined_code}, Status Code: {response.status_code}')\n",
    "    else:\n",
    "        print(f\"Branch code {branch_code} not found in the dictionary.\")\n",
    "\n",
    "    # Concatenate all dataframes in merged_df_list into a single dataframe\n",
    "    if merged_df_list:\n",
    "        final_df = pd.concat(merged_df_list, ignore_index=True)\n",
    "        return final_df\n",
    "    else:\n",
    "        return pd.DataFrame()  # Return an empty dataframe if no data was collected\n",
    "\n",
    "# Example usage\n",
    "branch_code_input = 134  # Change this to the desired branch code\n",
    "final_df = fetch_data(branch_code_input)\n",
    "\n",
    "# Print the final dataframe\n",
    "print(final_df)"
   ]
  },
  {
   "cell_type": "code",
   "execution_count": null,
   "id": "3d52dd31-5ff3-4c7f-92ed-21bb5d4cacc9",
   "metadata": {},
   "outputs": [],
   "source": [
    "len(final_df)\n"
   ]
  },
  {
   "cell_type": "code",
   "execution_count": null,
   "id": "c2b22626-81a0-4f19-a659-f02fcaa90b56",
   "metadata": {},
   "outputs": [],
   "source": [
    "final_df.shape\n"
   ]
  },
  {
   "cell_type": "code",
   "execution_count": null,
   "id": "da07162e-1bdb-4b9a-be90-7383d081ec49",
   "metadata": {},
   "outputs": [],
   "source": [
    "len(final_df[\"College Code\"].unique())"
   ]
  },
  {
   "cell_type": "code",
   "execution_count": null,
   "id": "dcf81fda-d593-4d97-8a0f-a56ff945a366",
   "metadata": {},
   "outputs": [],
   "source": [
    "final_df.loc[final_df[\"College Code\"]==6006]"
   ]
  },
  {
   "cell_type": "code",
   "execution_count": null,
   "id": "5f619919-11cc-40a6-94a6-f65037e4aa03",
   "metadata": {},
   "outputs": [],
   "source": [
    "final_df.iloc[1813:1888,:]"
   ]
  },
  {
   "cell_type": "code",
   "execution_count": null,
   "id": "d2c3be2a-4c55-4abe-aac2-4eeeeaff9728",
   "metadata": {},
   "outputs": [],
   "source": [
    "final_df[\"Course Type\"].unique()"
   ]
  },
  {
   "cell_type": "code",
   "execution_count": null,
   "id": "92c2280f-d879-4502-b37e-9b328d8e2256",
   "metadata": {},
   "outputs": [],
   "source": [
    "temp = final_df.loc[final_df[\"Course Type\"]!= 'Under Graduate Courses']\n",
    "temp = temp.loc[temp[\"Course Type\"]!= 'Post Graduate Courses']\n",
    "temp"
   ]
  },
  {
   "cell_type": "code",
   "execution_count": null,
   "id": "33e035a2-b3c7-477d-bb62-de01d93136e0",
   "metadata": {},
   "outputs": [],
   "source": [
    "final_df.isna().sum()"
   ]
  },
  {
   "cell_type": "code",
   "execution_count": null,
   "id": "ded20f3e-ed58-4ff9-8fac-3678d28f63e5",
   "metadata": {},
   "outputs": [],
   "source": [
    "final_df"
   ]
  },
  {
   "cell_type": "code",
   "execution_count": null,
   "id": "a9d56a20-f24a-42c2-b5f0-a17d0832c51a",
   "metadata": {},
   "outputs": [],
   "source": [
    "final_df.to_csv('coursename_collegeinfo.csv', index=False)"
   ]
  },
  {
   "cell_type": "code",
   "execution_count": null,
   "id": "d23544c5-7575-4741-a141-cf6d6cc4bad3",
   "metadata": {},
   "outputs": [],
   "source": [
    "li = ['Department Name', 'Institute Name', 'District', 'City', 'University',\n",
    "       'Institute Status', 'Minority Status', 'E-Mail ID', 'College Code',\n",
    "       'Address', 'Taluka', 'PIN Code', 'Establishment Year',\n",
    "       'Autonomy Status', 'Phone Number', 'Website URL', 'Course Name',\n",
    "       'Course Type', 'Branch Name', 'Sanction Intake']"
   ]
  },
  {
   "cell_type": "code",
   "execution_count": null,
   "id": "710ff3db-6dcf-4033-af56-4ef1e4401e77",
   "metadata": {},
   "outputs": [],
   "source": [
    "import pandas as pd\n",
    "df = pd.read_csv('csv file which contain cutoff data')\n",
    "df2 = pd.read_csv('course_collegeinfo.csv')\n"
   ]
  },
  {
   "cell_type": "code",
   "execution_count": null,
   "id": "caa8e56c-45f6-4857-9620-c72fad102f15",
   "metadata": {},
   "outputs": [],
   "source": [
    "df.columns"
   ]
  },
  {
   "cell_type": "code",
   "execution_count": null,
   "id": "72a2846b-14fa-4eab-bf2c-9dba9cd78290",
   "metadata": {},
   "outputs": [],
   "source": [
    "df2.columns"
   ]
  },
  {
   "cell_type": "code",
   "execution_count": null,
   "id": "868a07f6-7a63-4dc7-b911-ee3419f21783",
   "metadata": {},
   "outputs": [],
   "source": [
    "import pandas as pd\n",
    "df = pd.read_csv('csv file which contain cutoff data')\n",
    "df2 = pd.read_csv('course_collegeinfo.csv')\n",
    "\n",
    "# Convert 'code' column in df to numeric type, handling potential errors\n",
    "df['code'] = pd.to_numeric(df['code'], errors='coerce')\n",
    "\n",
    "# Merge the dataframes on 'code' and 'College Code'\n",
    "merged_df = pd.merge(df, df2, left_on='code', right_on='College Code', how='outer')\n",
    "\n",
    "# Drop rows where 'College Code' is missing or null\n",
    "merged_df = merged_df.dropna(subset=['College Code'])\n",
    "\n",
    "\n",
    "\n",
    "print(merged_df)\n",
    "\n"
   ]
  },
  {
   "cell_type": "code",
   "execution_count": null,
   "id": "d14aafcf-962b-42a6-945d-11a29fd3ed96",
   "metadata": {},
   "outputs": [],
   "source": [
    "merged_df.to_csv('cutoff data and course name files_merge.csv', index=False)"
   ]
  }
 ],
 "metadata": {
  "kernelspec": {
   "display_name": "Python 3 (ipykernel)",
   "language": "python",
   "name": "python3"
  },
  "language_info": {
   "codemirror_mode": {
    "name": "ipython",
    "version": 3
   },
   "file_extension": ".py",
   "mimetype": "text/x-python",
   "name": "python",
   "nbconvert_exporter": "python",
   "pygments_lexer": "ipython3",
   "version": "3.11.7"
  }
 },
 "nbformat": 4,
 "nbformat_minor": 5
}
