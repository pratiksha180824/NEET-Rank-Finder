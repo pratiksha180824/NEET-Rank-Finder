{
  "nbformat": 4,
  "nbformat_minor": 0,
  "metadata": {
    "colab": {
      "provenance": []
    },
    "kernelspec": {
      "name": "python3",
      "display_name": "Python 3"
    },
    "language_info": {
      "name": "python"
    }
  },
  "cells": [
    {
      "cell_type": "code",
      "execution_count": null,
      "metadata": {
        "colab": {
          "base_uri": "https://localhost:8080/"
        },
        "id": "hi13YXRX1d1E",
        "outputId": "9be6651d-0942-4aaf-a2fc-92bc61612648"
      },
      "outputs": [
        {
          "output_type": "stream",
          "name": "stdout",
          "text": [
            "    Alloted Category                                 Allotted Quota  \\\n",
            "30               EWS                    All India Quota Governm ent   \n",
            "5                EWS                    All India Quota Governm ent   \n",
            "18               EWS                    All India Quota Governm ent   \n",
            "125              OBC                    All India Quota Governm ent   \n",
            "72               OBC                    All India Quota Governm ent   \n",
            "..               ...                                            ...   \n",
            "232             Open                    All India Quota Governm ent   \n",
            "233             Open                    All India Quota Governm ent   \n",
            "372               SC                    All India Quota Governm ent   \n",
            "420               SC  Central Universit es / National Institutio ns   \n",
            "446               ST                    All India Quota Governm ent   \n",
            "\n",
            "                                    Allotted Institute           State  \\\n",
            "30   Sri Venkateswara Ayurvedic college, Tirupathi,...  Andhra Pradesh   \n",
            "5    Dr.Allu Ramaligaiah Govt.\\nHomoeopathic Medica...  Andhra Pradesh   \n",
            "18   Govt.\\nHomoeopathic Medical College, Kadappa, ...  Andhra Pradesh   \n",
            "125  Sri Venkateswara Ayurvedic college, Tirupathi,...  Andhra Pradesh   \n",
            "72   Dr.NR Sastry Govt.\\nAyurvedic College, Vijayaw...  Andhra Pradesh   \n",
            "..                                                 ...             ...   \n",
            "232  Mahesh Bhattacharya Homoeopathic Medical Colle...     West Bengal   \n",
            "233  Midnapore Homoeopathic Medical College and Hos...     West Bengal   \n",
            "372  JB Roy State Ayurvedic Medical College and Hos...     West Bengal   \n",
            "420  National Institute of Homoeopathy, Salt Lake, ...     West Bengal   \n",
            "446  Midnapore Homoeopathic Medical College and Hos...     West Bengal   \n",
            "\n",
            "                                            Course  Closing Rank          \n",
            "30      Bachelor of Ayurvedic Medicine and Surgery         89609   89609  \n",
            "5    Bachelor of Homoeopathic Medicine and Surgery        190260  190260  \n",
            "18   Bachelor of Homoeopathic Medicine and Surgery        204980  204980  \n",
            "125     Bachelor of Ayurvedic Medicine and Surgery         85645   85645  \n",
            "72      Bachelor of Ayurvedic Medicine and Surgery         89944   89944  \n",
            "..                                             ...           ...     ...  \n",
            "232  Bachelor of Homoeopathic Medicine and Surgery        106634  106634  \n",
            "233  Bachelor of Homoeopathic Medicine and Surgery        123530  123530  \n",
            "372     Bachelor of Ayurvedic Medicine and Surgery        201531  201531  \n",
            "420  Bachelor of Homoeopathic Medicine and Surgery        260024  260024  \n",
            "446  Bachelor of Homoeopathic Medicine and Surgery        432542  432542  \n",
            "\n",
            "[476 rows x 7 columns]\n",
            "Data has been sorted and saved successfully.\n"
          ]
        }
      ],
      "source": [
        "import pandas as pd\n",
        "\n",
        "# Load the CSV data\n",
        "df = pd.read_csv('/content/AACCC closing Rank Round-3.csv')\n",
        "\n",
        "# Convert the Closing_AIR column to numeric if it's not already\n",
        "df[''] = pd.to_numeric(df['Closing Rank'], errors='coerce')\n",
        "\n",
        "# Sort the data by 'State', 'Alloted_Category', and 'Closing_AIR'\n",
        "sorted_df = df.sort_values(by=['State', 'Alloted Category', 'Closing Rank'])\n",
        "\n",
        "# Save the sorted data to a new CSV file\n",
        "sorted_df.to_csv('AACCC R-3 Statewise.csv', index=False)\n",
        "\n",
        "# Save the sorted data to a new CSV file\n",
        "print(sorted_df)\n",
        "\n",
        "print(\"Data has been sorted and saved successfully.\")"
      ]
    },
    {
      "cell_type": "code",
      "source": [
        "import pandas as pd\n",
        "\n",
        "# Load the CSV file\n",
        "df = pd.read_csv('/content/MBBS_BDS_SELECTION LIST-1.csv')\n",
        "\n",
        "# Get the unique values in the 'quota' column\n",
        "unique_quotas = df['quota'].unique()\n",
        "\n",
        "# Get the number of unique values\n",
        "num_unique_quotas = len(unique_quotas)\n",
        "\n",
        "# Display the results\n",
        "print(\"Unique values in 'quota' column:\", unique_quotas)\n",
        "print(\"Number of unique values:\", num_unique_quotas)"
      ],
      "metadata": {
        "colab": {
          "base_uri": "https://localhost:8080/"
        },
        "id": "cFHfOmSqQMgr",
        "outputId": "8ec00a39-ccb2-43c8-d6b6-2acc9f97696e"
      },
      "execution_count": null,
      "outputs": [
        {
          "output_type": "stream",
          "name": "stdout",
          "text": [
            "Unique values in 'quota' column: ['OPEN (EMD) ' 'OPEN ' 'OPEN' 'OPEN (W) ' 'OPEN (W) (EMD) ' 'HOPEN (EMD) '\n",
            " 'HOPEN ' 'HA HOPENW ' 'EMOBC (EMR) ' 'EWS ' 'VJA ' 'D1 DEF1 '\n",
            " 'EMSEBC (EMR) ' 'NTD ' 'SEBC ' 'OBC ' 'NTCOPEN (W) ' 'HA HOBC '\n",
            " 'EMOBCW (EMR) ' 'HA NTD ' 'SEBCOPEN (W) ' 'HA EMNTC (EMR) ' 'HOPENW '\n",
            " 'OBCOPEN (W) ' 'EWSOPEN (W) ' 'HA OBCOPEN (W) ' 'HA HOPEN ' 'HA OBC '\n",
            " 'EMSEBCW (EMR) ' 'HEM SEBC (EMR) ' 'SC ' 'DEF1 ' 'VJA OPEN (W) '\n",
            " 'HA OPEN (EMD) ' 'HA VJA ' 'EMNTD (EMR) ' 'EMNTC (EMR) ' 'NTDOPEN (W) '\n",
            " 'HA EWSOPEN (W) ' 'NTC ' 'EMNTB (EMR) ' 'DEF3 ' 'DEF2 ' 'HSEBC W '\n",
            " 'D1 DEF1 W ' 'NTB ' 'SC OPEN (W) ' 'D2 DEF2 ' 'NTBOPEN (W) '\n",
            " 'HA NTDOPEN (W) ' 'D2 DEF2 W ' 'HA HEWS W ' 'HSEBC ' 'EMSCW (EMR) '\n",
            " 'HA HOBC W ' 'HA HNTC ' 'MKB ' 'MINO ' 'HA NTC ' 'DEF1 W ' 'HA HSC '\n",
            " 'HA EWS ' 'ST ' 'DEF3 W ' 'DEF2 W ' 'HA HVJA ' ' OPEN '\n",
            " 'ORP-C ORPHANC OrphanC ' 'HA HNTD ' 'HA SC ' 'HA NTCOPEN (W) '\n",
            " 'ST OPEN (W) ' 'MKB W ' 'HA HEWS ' 'OPEN (W) MINO ' 'OPEN MINO '\n",
            " 'D1 SC OPEN (W) ' 'HA OPEN ' 'EMNTCW (EMR) ' 'EMNTDW (EMR) '\n",
            " 'HA EMOBC (EMR) ' 'HA EMOBCW (EMR) ' 'HA OPEN (W) ' 'HA OPEN (W) (EMD) '\n",
            " 'HA HNTD W ' 'HA HNTC W ' 'HA HNTB ' 'D2 VJA ' 'HA OPEN MINO ' 'D1 SC '\n",
            " 'D1HA DEF1 ' 'I.Q. ' 'EMSC (EMR) ' 'HA EMNTDW (EMR) ' 'PWD-OPEN PH '\n",
            " 'HA HSCW ' ' OBC ' 'HA HNTB W ' 'D1HA DEF1 W ' ' I.Q. ' 'HA SC OPEN (W) '\n",
            " 'D1 NTCOPEN (W) ' 'D1 OPEN (W) ' 'HA HST ' 'HA ST OPEN (W) '\n",
            " 'D1 OPEN (EMD) ' 'HA NTB ' 'PWD PWD-OPEN PH ' 'HA ST '\n",
            " 'PWD PWD-OPEN (EMD) ' 'D1 OPEN ' 'HA HVJAW ' 'D2 OPEN (W) (EMD) '\n",
            " 'D2 OPEN (EMD) ' 'ORPHANC OrphanC ' 'HA NTBOPEN (W) '\n",
            " 'ORPHANC-SE Orphan-C SEBC ' 'HA EMNTD (EMR) ' 'EMVJA (EMR) '\n",
            " 'ORP-C ORPHANC-OB Orphan-C OBC ' nan 'D1HA OPEN (W) (EMD) ' 'HA HSTW '\n",
            " 'D2 SC OPEN (W) ' 'I.Q. MINO ' 'D1 EMNTCW (EMR) '\n",
            " 'PWD HA PWD-OPEN (EMD) ' 'D1 EMOBC (EMR) ' 'D1 EMOBCW (EMR) '\n",
            " 'D1 OPEN (W) (EMD) ' 'ORP-C ORPHANC-EW Orphan-C EWS ' 'HA EMNTB (EMR) '\n",
            " 'EMVJAW (EMR) ' 'PWD PWD-OBC PH ' 'PWD HA PWD-OBC PH '\n",
            " 'ORP-C ORPHANC-SC Orphan-C SC ' 'HA I.Q. ' 'D1 EMNTD (EMR) '\n",
            " 'PWD PWD-NTD PH ' 'D2 OPEN ' 'HA EMSC (EMR) ' 'D1 I.Q. '\n",
            " 'PWD PEM OBC PH (EMR) ' 'HA EMVJA (EMR) ' 'PWD-SEBC PH '\n",
            " 'PWD PWD-NTB PH ' 'EMNTBW (EMR) ' 'PWD PWD-EWS PH ' 'NRI I.Q. '\n",
            " 'PWD PEM SC PH (EMR) ' 'PWD PWD-SC PH ' 'HA PWD-SEBC PH '\n",
            " 'PWD PWD-ST PH ' 'ORP-A ORPHAN Orphan-A ' 'ORP-C ORPHANC-ST Orphan-C ST '\n",
            " 'HAORP- ORPHANC OrphanC ' 'HA PWD-OPEN PH ' 'PWD PWD-NTC PH '\n",
            " 'ORPHAN Orphan-A ' 'ORP-C ORPHANC-NT Orphan-C NT2 ' 'PWD PWD-VJA PH '\n",
            " 'F I.Q. ' 'D1PWD PWD-SC PH ' 'D1PWD PWD-ST PH '\n",
            " 'HAORP- ORPHANC-OB Orphan-C OBC ' 'PWD HA PWD-ST PH ']\n",
            "Number of unique values: 166\n"
          ]
        }
      ]
    },
    {
      "cell_type": "code",
      "source": [
        "import pandas as pd\n",
        "\n",
        "# Load the CSV file\n",
        "df = pd.read_csv('/content/MBBS_BDS_SELECTION LIST-1.csv')\n",
        "\n",
        "# Define categories to search for in 'quota' column\n",
        "categories = ['OBC', 'OPEN', 'EWS', 'SC', 'ST', 'VJA']\n",
        "\n",
        "# Create an empty dictionary to store the results for each category\n",
        "result_dict = {category: [] for category in categories}\n",
        "result_dict['Others'] = []  # To store values not in the specified categories\n",
        "\n",
        "# Loop through each unique value in the 'quota' column\n",
        "for quota_value in df['quota'].unique():\n",
        "    # Check if the quota_value contains any of the categories\n",
        "    found = False\n",
        "    for category in categories:\n",
        "        if pd.notna(quota_value) and category in quota_value:\n",
        "            result_dict[category].append(quota_value)\n",
        "            found = True\n",
        "            break\n",
        "    # If the value doesn't match any category, add it to 'Others'\n",
        "    if not found and pd.notna(quota_value):\n",
        "        result_dict['Others'].append(quota_value)\n",
        "\n",
        "# Create a DataFrame with unique values as columns\n",
        "result_df = pd.DataFrame(dict([(k, pd.Series(v)) for k, v in result_dict.items()]))\n",
        "\n",
        "# Display the result\n",
        "print(result_df)\n",
        "# Save the sorted data to a new CSV file\n",
        "result_df.to_csv('sorted_output3.csv', index=False)"
      ],
      "metadata": {
        "colab": {
          "base_uri": "https://localhost:8080/"
        },
        "id": "EMW6PXRiRDhg",
        "outputId": "8099dd66-d0a1-4e42-8f25-90b410d6f24e"
      },
      "execution_count": null,
      "outputs": [
        {
          "output_type": "stream",
          "name": "stdout",
          "text": [
            "              OBC             OPEN                             EWS  \\\n",
            "0    EMOBC (EMR)       OPEN (EMD)                             EWS    \n",
            "1            OBC             OPEN                       HA HEWS W    \n",
            "2        HA HOBC              OPEN                         HA EWS    \n",
            "3   EMOBCW (EMR)         OPEN (W)                         HA HEWS    \n",
            "4    OBCOPEN (W)   OPEN (W) (EMD)   ORP-C ORPHANC-EW Orphan-C EWS    \n",
            "..            ...              ...                             ...   \n",
            "59            NaN              NaN                             NaN   \n",
            "60            NaN              NaN                             NaN   \n",
            "61            NaN              NaN                             NaN   \n",
            "62            NaN              NaN                             NaN   \n",
            "63            NaN              NaN                             NaN   \n",
            "\n",
            "              SC              ST        VJA                          Others  \n",
            "0            SC              ST        VJA                         D1 DEF1   \n",
            "1   EMSCW (EMR)          HA HST     HA VJA                    EMSEBC (EMR)   \n",
            "2        HA HSC           HA ST    HA HVJA                             NTD   \n",
            "3         HA SC         HA HSTW     D2 VJA                            SEBC   \n",
            "4         D1 SC   PWD PWD-ST PH   HA HVJAW                          HA NTD   \n",
            "..           ...             ...        ...                             ...  \n",
            "59           NaN             NaN        NaN         HAORP- ORPHANC OrphanC   \n",
            "60           NaN             NaN        NaN                 PWD PWD-NTC PH   \n",
            "61           NaN             NaN        NaN                ORPHAN Orphan-A   \n",
            "62           NaN             NaN        NaN  ORP-C ORPHANC-NT Orphan-C NT2   \n",
            "63           NaN             NaN        NaN                         F I.Q.   \n",
            "\n",
            "[64 rows x 7 columns]\n"
          ]
        }
      ]
    }
  ]
}